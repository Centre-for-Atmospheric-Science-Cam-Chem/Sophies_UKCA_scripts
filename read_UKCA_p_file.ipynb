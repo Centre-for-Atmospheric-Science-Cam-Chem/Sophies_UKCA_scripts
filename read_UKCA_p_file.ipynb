{
  "nbformat": 4,
  "nbformat_minor": 0,
  "metadata": {
    "colab": {
      "provenance": []
    },
    "kernelspec": {
      "name": "python3",
      "display_name": "Python 3"
    },
    "language_info": {
      "name": "python"
    }
  },
  "cells": [
    {
      "cell_type": "markdown",
      "source": [
        "See https://github.com/theabro/ukca/blob/master/Tutorials/UMvn13.0/notebooks/iris_toz01.ipynb"
      ],
      "metadata": {
        "id": "N5QoXjXlfcEF"
      }
    },
    {
      "cell_type": "code",
      "execution_count": null,
      "metadata": {
        "colab": {
          "base_uri": "https://localhost:8080/"
        },
        "id": "I0_W8BdmTOLS",
        "outputId": "1ae8b4b6-e4a6-4700-a27d-11735f147cb1"
      },
      "outputs": [
        {
          "output_type": "stream",
          "name": "stdout",
          "text": [
            "\u001b[2K     \u001b[90m━━━━━━━━━━━━━━━━━━━━━━━━━━━━━━━━━━━━━━━━\u001b[0m \u001b[32m2.6/2.6 MB\u001b[0m \u001b[31m26.8 MB/s\u001b[0m eta \u001b[36m0:00:00\u001b[0m\n",
            "\u001b[2K     \u001b[90m━━━━━━━━━━━━━━━━━━━━━━━━━━━━━━━━━━━━━━━━\u001b[0m \u001b[32m10.9/10.9 MB\u001b[0m \u001b[31m96.9 MB/s\u001b[0m eta \u001b[36m0:00:00\u001b[0m\n",
            "\u001b[?25h  Installing build dependencies ... \u001b[?25l\u001b[?25hdone\n",
            "  Getting requirements to build wheel ... \u001b[?25l\u001b[?25hdone\n",
            "  Preparing metadata (pyproject.toml) ... \u001b[?25l\u001b[?25hdone\n",
            "\u001b[2K     \u001b[90m━━━━━━━━━━━━━━━━━━━━━━━━━━━━━━━━━━━━━━\u001b[0m \u001b[32m518.1/518.1 kB\u001b[0m \u001b[31m38.1 MB/s\u001b[0m eta \u001b[36m0:00:00\u001b[0m\n",
            "\u001b[2K     \u001b[90m━━━━━━━━━━━━━━━━━━━━━━━━━━━━━━━━━━━━━━━━\u001b[0m \u001b[32m1.2/1.2 MB\u001b[0m \u001b[31m59.7 MB/s\u001b[0m eta \u001b[36m0:00:00\u001b[0m\n",
            "\u001b[2K     \u001b[90m━━━━━━━━━━━━━━━━━━━━━━━━━━━━━━━━━━━━━━━━\u001b[0m \u001b[32m5.4/5.4 MB\u001b[0m \u001b[31m30.7 MB/s\u001b[0m eta \u001b[36m0:00:00\u001b[0m\n",
            "\u001b[2K     \u001b[90m━━━━━━━━━━━━━━━━━━━━━━━━━━━━━━━━━━━━━━━━\u001b[0m \u001b[32m7.9/7.9 MB\u001b[0m \u001b[31m107.4 MB/s\u001b[0m eta \u001b[36m0:00:00\u001b[0m\n",
            "\u001b[2K     \u001b[90m━━━━━━━━━━━━━━━━━━━━━━━━━━━━━━━━━━━━━━\u001b[0m \u001b[32m212.5/212.5 kB\u001b[0m \u001b[31m17.2 MB/s\u001b[0m eta \u001b[36m0:00:00\u001b[0m\n",
            "\u001b[2K     \u001b[90m━━━━━━━━━━━━━━━━━━━━━━━━━━━━━━━━━━━━━━━━\u001b[0m \u001b[32m46.5/46.5 kB\u001b[0m \u001b[31m4.4 MB/s\u001b[0m eta \u001b[36m0:00:00\u001b[0m\n",
            "\u001b[2K     \u001b[90m━━━━━━━━━━━━━━━━━━━━━━━━━━━━━━━━━━━━━━\u001b[0m \u001b[32m112.3/112.3 kB\u001b[0m \u001b[31m10.3 MB/s\u001b[0m eta \u001b[36m0:00:00\u001b[0m\n",
            "\u001b[?25h  Preparing metadata (setup.py) ... \u001b[?25l\u001b[?25hdone\n",
            "  Building wheel for cartopy (pyproject.toml) ... \u001b[?25l\u001b[?25hdone\n",
            "  Building wheel for antlr4-python3-runtime (setup.py) ... \u001b[?25l\u001b[?25hdone\n"
          ]
        }
      ],
      "source": [
        "!pip install -q scitools-iris"
      ]
    },
    {
      "cell_type": "code",
      "source": [
        "import iris\n",
        "#import iris.analysis\n",
        "#import iris.quickplot as qplt\n",
        "#import matplotlib.pyplot as plt\n",
        "#import numpy as np\n",
        "#import matplotlib.dates as mdates\n",
        "#import cf_units\n",
        "import pandas as pd\n",
        "from google.colab import drive\n",
        "drive.mount('/content/drive')"
      ],
      "metadata": {
        "colab": {
          "base_uri": "https://localhost:8080/"
        },
        "id": "ooMwQtW1TRRh",
        "outputId": "bf3d42e0-2e12-47b4-faa5-6fe972536ac0"
      },
      "execution_count": null,
      "outputs": [
        {
          "output_type": "stream",
          "name": "stdout",
          "text": [
            "Mounted at /content/drive\n"
          ]
        }
      ]
    },
    {
      "cell_type": "code",
      "source": [
        "# This step takes several minutes. Better to load individual chunks than the whole thing. See stash codes text file.\n",
        "p_file = '/content/drive/MyDrive/Documents/AI4ER/PhD/Photolysis_data/atmosa.pb1988sep'\n",
        "#UKCA_data = iris.load(p_file)\n",
        "UKCA_O3 = iris.load_cube(p_file,iris.AttributeConstraint(STASH='m01s50i567')) # O3 --> O(1D)"
      ],
      "metadata": {
        "colab": {
          "base_uri": "https://localhost:8080/"
        },
        "id": "rc81LuLWWfsK",
        "outputId": "b2d85c0e-2cb7-4fc6-c818-390cbbe7cd27"
      },
      "execution_count": null,
      "outputs": [
        {
          "output_type": "stream",
          "name": "stderr",
          "text": [
            "/usr/local/lib/python3.10/dist-packages/iris/fileformats/pp.py:1574: UserWarning: has_year_zero kwarg ignored for idealized calendars (always True)\n",
            "  self._t1 = cftime.datetime(\n",
            "/usr/local/lib/python3.10/dist-packages/iris/fileformats/pp.py:1609: UserWarning: has_year_zero kwarg ignored for idealized calendars (always True)\n",
            "  self._t2 = cftime.datetime(\n",
            "/usr/local/lib/python3.10/dist-packages/cf_units/__init__.py:402: UserWarning: has_year_zero kwarg ignored for idealized calendars (always True)\n",
            "  dates = np.array([dt and dt.replace(microsecond=0) for dt in dates])\n",
            "/usr/local/lib/python3.10/dist-packages/iris/fileformats/rules.py:353: UserWarning: Unable to create instance of HybridHeightFactory. The source data contains no field(s) for 'orography'.\n",
            "  warnings.warn(msg.format(factory=factory_name))\n"
          ]
        }
      ]
    },
    {
      "cell_type": "code",
      "source": [
        "'''\n",
        "print(type(UKCA_data))\n",
        "print(UKCA_data.shape)\n",
        "print(UKCA_data)\n",
        "'''\n",
        "print(type(UKCA_O3))\n",
        "print(UKCA_O3.shape) # 47 t, 85 z, 144 y, 192 x\n",
        "print(UKCA_O3)"
      ],
      "metadata": {
        "colab": {
          "base_uri": "https://localhost:8080/"
        },
        "id": "Q93B3VihZU1w",
        "outputId": "327643b9-6525-4b88-8bd7-74f6bfd89ac2"
      },
      "execution_count": null,
      "outputs": [
        {
          "output_type": "stream",
          "name": "stdout",
          "text": [
            "<class 'iris.cube.Cube'>\n",
            "(47, 85, 144, 192)\n",
            "m01s50i567 / (unknown)              (time: 47; model_level_number: 85; latitude: 144; longitude: 192)\n",
            "    Dimension coordinates:\n",
            "        time                             x                       -             -               -\n",
            "        model_level_number               -                       x             -               -\n",
            "        latitude                         -                       -             x               -\n",
            "        longitude                        -                       -             -               x\n",
            "    Auxiliary coordinates:\n",
            "        forecast_period                  x                       -             -               -\n",
            "        level_height                     -                       x             -               -\n",
            "        sigma                            -                       x             -               -\n",
            "    Scalar coordinates:\n",
            "        forecast_reference_time     1988-09-01 00:00:00\n",
            "    Attributes:\n",
            "        STASH                       m01s50i567\n",
            "        source                      'Data from Met Office Unified Model'\n",
            "        um_version                  '13.0'\n"
          ]
        }
      ]
    },
    {
      "cell_type": "code",
      "source": [
        "# The UKCA test suite simulates 1st and 2nd September 1988.\n",
        "# The most similar time of year in the ATom data is 23rd August 2016.\n",
        "\n",
        "# Open the .csv of all the ATom data which have already been pre-processed in the script, ATom_J_data.\n",
        "ATom_file = '/content/drive/MyDrive/Documents/AI4ER/PhD/Photolysis_data/ATom_MER10_Dataset.20210613/photolysis_data.csv'\n",
        "ATom_data = pd.read_csv(ATom_file, index_col=0) # shape = 138454, 49. 138454 time steps, 49 = chemicals + spatial dimensions."
      ],
      "metadata": {
        "id": "QPbp04JfJ7Nf",
        "colab": {
          "base_uri": "https://localhost:8080/"
        },
        "outputId": "6e2dd4ad-65f0-4bec-dbef-6a758ea3709f"
      },
      "execution_count": null,
      "outputs": [
        {
          "output_type": "stream",
          "name": "stdout",
          "text": [
            "(138454, 49)\n"
          ]
        }
      ]
    },
    {
      "cell_type": "code",
      "source": [
        "# Pick out just the 22nd and 23rd August indices separately.\n",
        "A_day1 = ATom_data[ATom_data.index.str.contains('2016-08-22')] # shape = 1994, 49. 1994 time steps for 22/8/16, 49 = chemicals + spatial dimensions.\n",
        "A_day1_O3 = A_day1[['G_LAT', 'G_LONG', 'G_ALT', 'jO3_O2_O1D_CAFS']] # shape = 1994, 4.\n",
        "\n",
        "A_day2 = ATom_data[ATom_data.index.str.contains('2016-08-23')] # shape = 1765, 49. 1765 time steps for 23/8/16, 49 = chemicals + spatial dimensions.\n",
        "A_day2_O3 = A_day2[['G_LAT', 'G_LONG', 'G_ALT', 'jO3_O2_O1D_CAFS']] # shape = 1765, 4.\n",
        "\n",
        "# Check what the time of day range is for both.\n",
        "print(A_day1_O3.index[0]) # 12:53:40\n",
        "print(A_day1_O3.index[-1], '\\n') # 18:51:40\n",
        "print(A_day2_O3.index[0]) # 15:05:40\n",
        "print(A_day2_O3.index[-1]) # 20:00:20\n",
        "\n",
        "# Trim so that all arrays are over the same times. # 15:05:40 to 18:51:40\n",
        "A_day1_O3 = A_day1_O3.loc['2016-08-22 15:05:40':'2016-08-22 18:51:40'] # shape = 1205, 4. type = pandas dataframe.\n",
        "A_day2_O3 = A_day2_O3.loc['2016-08-23 15:05:40':'2016-08-23 18:51:40'] # shape = 1353, 4. type = pandas dataframe.\n",
        "\n",
        "# Check what time zones ATom and UM are using and make them consistent.\n",
        "# ATom is UTC. UM is ."
      ],
      "metadata": {
        "colab": {
          "base_uri": "https://localhost:8080/"
        },
        "id": "cuUo9RMqPCAw",
        "outputId": "e4c3398c-67de-4e73-d78c-ed6cc6caf7a8"
      },
      "execution_count": null,
      "outputs": [
        {
          "output_type": "stream",
          "name": "stdout",
          "text": [
            "2016-08-22 12:53:40\n",
            "2016-08-22 18:51:40 \n",
            "\n",
            "2016-08-23 15:05:40\n",
            "2016-08-23 20:00:20\n",
            "(1353, 4)\n"
          ]
        }
      ]
    },
    {
      "cell_type": "code",
      "source": [
        "# Get the UM data for the same time of day for both 1st and 2nd sep separately.\n",
        "# shape = 47 t, 85 z, 144 y, 192 x. type = iris cube.\n",
        "# U_day1_O3 = UKCA_O3[]  Learn how to work with iris cube indices.\n",
        "\n",
        "# compare the 2 ATom days with each other for O3.\n",
        "# compare the 2 UM days with each other for O3.\n",
        "# compare one of the ATom days with one of the UM days.\n",
        "# Now put all the above into functions to work with different chemicals and try with NO2."
      ],
      "metadata": {
        "id": "GWiIbPxL-SCz"
      },
      "execution_count": null,
      "outputs": []
    }
  ]
}