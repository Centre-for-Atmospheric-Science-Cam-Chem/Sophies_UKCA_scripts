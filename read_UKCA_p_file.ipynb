{
  "nbformat": 4,
  "nbformat_minor": 0,
  "metadata": {
    "colab": {
      "provenance": []
    },
    "kernelspec": {
      "name": "python3",
      "display_name": "Python 3"
    },
    "language_info": {
      "name": "python"
    }
  },
  "cells": [
    {
      "cell_type": "code",
      "execution_count": 1,
      "metadata": {
        "colab": {
          "base_uri": "https://localhost:8080/"
        },
        "id": "I0_W8BdmTOLS",
        "outputId": "b6fdd6be-681f-40a8-8546-560e0d2808db"
      },
      "outputs": [
        {
          "output_type": "stream",
          "name": "stdout",
          "text": [
            "\u001b[2K     \u001b[90m━━━━━━━━━━━━━━━━━━━━━━━━━━━━━━━━━━━━━━━━\u001b[0m \u001b[32m2.6/2.6 MB\u001b[0m \u001b[31m22.7 MB/s\u001b[0m eta \u001b[36m0:00:00\u001b[0m\n",
            "\u001b[2K     \u001b[90m━━━━━━━━━━━━━━━━━━━━━━━━━━━━━━━━━━━━━━━━\u001b[0m \u001b[32m10.9/10.9 MB\u001b[0m \u001b[31m55.1 MB/s\u001b[0m eta \u001b[36m0:00:00\u001b[0m\n",
            "\u001b[?25h  Installing build dependencies ... \u001b[?25l\u001b[?25hdone\n",
            "  Getting requirements to build wheel ... \u001b[?25l\u001b[?25hdone\n",
            "  Preparing metadata (pyproject.toml) ... \u001b[?25l\u001b[?25hdone\n",
            "\u001b[2K     \u001b[90m━━━━━━━━━━━━━━━━━━━━━━━━━━━━━━━━━━━━━━\u001b[0m \u001b[32m518.1/518.1 kB\u001b[0m \u001b[31m28.2 MB/s\u001b[0m eta \u001b[36m0:00:00\u001b[0m\n",
            "\u001b[2K     \u001b[90m━━━━━━━━━━━━━━━━━━━━━━━━━━━━━━━━━━━━━━━━\u001b[0m \u001b[32m1.2/1.2 MB\u001b[0m \u001b[31m49.8 MB/s\u001b[0m eta \u001b[36m0:00:00\u001b[0m\n",
            "\u001b[2K     \u001b[90m━━━━━━━━━━━━━━━━━━━━━━━━━━━━━━━━━━━━━━━━\u001b[0m \u001b[32m5.4/5.4 MB\u001b[0m \u001b[31m79.1 MB/s\u001b[0m eta \u001b[36m0:00:00\u001b[0m\n",
            "\u001b[2K     \u001b[90m━━━━━━━━━━━━━━━━━━━━━━━━━━━━━━━━━━━━━━━━\u001b[0m \u001b[32m7.7/7.7 MB\u001b[0m \u001b[31m71.9 MB/s\u001b[0m eta \u001b[36m0:00:00\u001b[0m\n",
            "\u001b[2K     \u001b[90m━━━━━━━━━━━━━━━━━━━━━━━━━━━━━━━━━━━━━━\u001b[0m \u001b[32m212.5/212.5 kB\u001b[0m \u001b[31m16.7 MB/s\u001b[0m eta \u001b[36m0:00:00\u001b[0m\n",
            "\u001b[2K     \u001b[90m━━━━━━━━━━━━━━━━━━━━━━━━━━━━━━━━━━━━━━━━\u001b[0m \u001b[32m46.5/46.5 kB\u001b[0m \u001b[31m3.7 MB/s\u001b[0m eta \u001b[36m0:00:00\u001b[0m\n",
            "\u001b[2K     \u001b[90m━━━━━━━━━━━━━━━━━━━━━━━━━━━━━━━━━━━━━━━\u001b[0m \u001b[32m112.3/112.3 kB\u001b[0m \u001b[31m8.9 MB/s\u001b[0m eta \u001b[36m0:00:00\u001b[0m\n",
            "\u001b[?25h  Preparing metadata (setup.py) ... \u001b[?25l\u001b[?25hdone\n",
            "  Building wheel for cartopy (pyproject.toml) ... \u001b[?25l\u001b[?25hdone\n",
            "  Building wheel for antlr4-python3-runtime (setup.py) ... \u001b[?25l\u001b[?25hdone\n"
          ]
        }
      ],
      "source": [
        "!pip install -q scitools-iris"
      ]
    },
    {
      "cell_type": "code",
      "source": [
        "import iris\n",
        "#import iris.analysis\n",
        "#import iris.quickplot as qplt\n",
        "#import matplotlib.pyplot as plt\n",
        "#import numpy as np\n",
        "#import matplotlib.dates as mdates\n",
        "#import cf_units\n",
        "from google.colab import drive\n",
        "drive.mount('/content/drive')"
      ],
      "metadata": {
        "colab": {
          "base_uri": "https://localhost:8080/"
        },
        "id": "ooMwQtW1TRRh",
        "outputId": "33dac116-174e-4c9c-8d06-e731f06d5f40"
      },
      "execution_count": 2,
      "outputs": [
        {
          "output_type": "stream",
          "name": "stdout",
          "text": [
            "Mounted at /content/drive\n"
          ]
        }
      ]
    },
    {
      "cell_type": "code",
      "source": [
        "p_file = '/content/drive/MyDrive/Documents/AI4ER/PhD/Photolysis_data/atmosa.pb1988sep'\n",
        "O3 = ukca=iris.load_cube(p_file,iris.AttributeConstraint(STASH='m01s50i567')) # O3 --> O(1D)"
      ],
      "metadata": {
        "colab": {
          "base_uri": "https://localhost:8080/"
        },
        "id": "rc81LuLWWfsK",
        "outputId": "b5e770b8-71a0-4127-cb92-e107b79539a9"
      },
      "execution_count": 3,
      "outputs": [
        {
          "output_type": "stream",
          "name": "stderr",
          "text": [
            "/usr/local/lib/python3.10/dist-packages/iris/fileformats/pp.py:1574: UserWarning: has_year_zero kwarg ignored for idealized calendars (always True)\n",
            "  self._t1 = cftime.datetime(\n",
            "/usr/local/lib/python3.10/dist-packages/iris/fileformats/pp.py:1609: UserWarning: has_year_zero kwarg ignored for idealized calendars (always True)\n",
            "  self._t2 = cftime.datetime(\n",
            "/usr/local/lib/python3.10/dist-packages/cf_units/__init__.py:402: UserWarning: has_year_zero kwarg ignored for idealized calendars (always True)\n",
            "  dates = np.array([dt and dt.replace(microsecond=0) for dt in dates])\n",
            "/usr/local/lib/python3.10/dist-packages/iris/fileformats/rules.py:353: UserWarning: Unable to create instance of HybridHeightFactory. The source data contains no field(s) for 'orography'.\n",
            "  warnings.warn(msg.format(factory=factory_name))\n"
          ]
        }
      ]
    },
    {
      "cell_type": "code",
      "source": [
        "print(type(O3))\n",
        "print(O3.shape)\n",
        "print(O3)"
      ],
      "metadata": {
        "colab": {
          "base_uri": "https://localhost:8080/"
        },
        "id": "Q93B3VihZU1w",
        "outputId": "4cbaa1e6-5719-405d-cf89-43bc3c4140e5"
      },
      "execution_count": 4,
      "outputs": [
        {
          "output_type": "stream",
          "name": "stdout",
          "text": [
            "<class 'iris.cube.Cube'>\n",
            "(47, 85, 144, 192)\n",
            "m01s50i567 / (unknown)              (time: 47; model_level_number: 85; latitude: 144; longitude: 192)\n",
            "    Dimension coordinates:\n",
            "        time                             x                       -             -               -\n",
            "        model_level_number               -                       x             -               -\n",
            "        latitude                         -                       -             x               -\n",
            "        longitude                        -                       -             -               x\n",
            "    Auxiliary coordinates:\n",
            "        forecast_period                  x                       -             -               -\n",
            "        level_height                     -                       x             -               -\n",
            "        sigma                            -                       x             -               -\n",
            "    Scalar coordinates:\n",
            "        forecast_reference_time     1988-09-01 00:00:00\n",
            "    Attributes:\n",
            "        STASH                       m01s50i567\n",
            "        source                      'Data from Met Office Unified Model'\n",
            "        um_version                  '13.0'\n"
          ]
        }
      ]
    }
  ]
}