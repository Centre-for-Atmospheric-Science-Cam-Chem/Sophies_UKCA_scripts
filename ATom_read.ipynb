{
  "nbformat": 4,
  "nbformat_minor": 0,
  "metadata": {
    "colab": {
      "provenance": []
    },
    "kernelspec": {
      "name": "python3",
      "display_name": "Python 3"
    },
    "language_info": {
      "name": "python"
    }
  },
  "cells": [
    {
      "cell_type": "code",
      "source": [
        "import glob\n",
        "import pandas as pd\n",
        "import numpy as np\n",
        "from google.colab import drive \n",
        "drive.mount('/content/drive')"
      ],
      "metadata": {
        "colab": {
          "base_uri": "https://localhost:8080/"
        },
        "id": "7SO0oBKTRTIh",
        "outputId": "f3ff16ce-680f-4deb-a8fe-ac973bee3aa7"
      },
      "execution_count": 12,
      "outputs": [
        {
          "output_type": "stream",
          "name": "stdout",
          "text": [
            "Drive already mounted at /content/drive; to attempt to forcibly remount, call drive.mount(\"/content/drive\", force_remount=True).\n"
          ]
        }
      ]
    },
    {
      "cell_type": "code",
      "source": [
        "# Choose which fields to use. \n",
        "def get_col_names(file_path):\n",
        "  time_space = ['UTC_Start', 'G_LAT', 'G_LONG', 'G_ALT']\n",
        "  names = pd.read_csv(file_path, skiprows=100, nrows=100).to_numpy()[:,0]\n",
        "  col_names = time_space\n",
        "  for item in names:\n",
        "    if 'CAFS' in item and 'dnwFrac' not in item:  \n",
        "      col_names.append(item) \n",
        "  return col_names\n",
        "\n",
        "# Get the relevant data.    \n",
        "def get_data(file_path, col_names):\n",
        "  pre_rows = int((pd.read_csv(file_path, nrows=1, header=None))[0])\n",
        "  relevant_data = pd.read_csv(file_path, skiprows=pre_rows-1, index_col=0, parse_dates=[0], usecols=col_names, na_values='-99999.0')\n",
        "  return relevant_data\n",
        "\n",
        "# Get the date and times.\n",
        "def get_date_time(file_path, data):\n",
        "  date = file_path[-16:-8]\n",
        "  date = f'{date[0:4]}-{date[4:6]}-{date[6:8]}'\n",
        "  data['UTC_Start_dt'] = pd.to_datetime(data.index, unit='s', origin=date)\n",
        "  data.index = data['UTC_Start_dt']\n",
        "  return data"
      ],
      "metadata": {
        "id": "AuTZn5JnXY3l"
      },
      "execution_count": 112,
      "outputs": []
    },
    {
      "cell_type": "code",
      "source": [
        "# Tests on 1 file.\n",
        "file_path = '/content/drive/MyDrive/Documents/AI4ER/PhD/Photolysis_data/ATom_MER10_Dataset.20210613/MER10_DC8_20160729_R35.ict'\n",
        "\n",
        "col_names = get_col_names(file_path)\n",
        "print(len(col_names))\n",
        "print(col_names)\n",
        "\n",
        "data = get_data(file_path, col_names)\n",
        "print(data.shape)\n",
        "print(data[0:2])\n",
        "\n",
        "data = get_date_time(file_path, data)\n",
        "print(data[0:2])"
      ],
      "metadata": {
        "colab": {
          "base_uri": "https://localhost:8080/"
        },
        "id": "SpR-zrQfbEKp",
        "outputId": "2d4fc0cd-86a3-4b0c-c72d-cfe0000c9f54"
      },
      "execution_count": 106,
      "outputs": [
        {
          "output_type": "stream",
          "name": "stdout",
          "text": [
            "51\n",
            "['UTC_Start', 'UTC_Stop', 'G_LAT', 'G_LONG', 'G_ALT', 'jO3_O2_O1D_CAFS', 'jNO2_NO_O3P_CAFS', 'jH2O2_OH_OH_CAFS', 'jNO3_NO_O2_CAFS', 'jNO3_NO2_O3P_CAFS', 'jN2O5_NO3_NO2_CAFS', 'jHNO2_OH_NO_CAFS', 'jHNO3_OH_NO2_CAFS', 'jHNO4_HO2_NO2_UvVisOnly_CAFS', 'jCH2O_H_HCO_CAFS', 'jCH2O_H2_CO_CAFS', 'jCH3CHO_CH3_HCO_CAFS', 'jPropanal_CH2CH3_HCO_CAFS', 'jCH3OOH_CH3O_OH_CAFS', 'jMeONO2_CH3O_NO2_CAFS', 'jEthONO2_CH3CH2O_NO2_CAFS', 'jPAN_CH3COO2_NO2_CAFS', 'jPAN_CH3COO_NO3_CAFS', 'jMAC_NoProductsSpecified_CAFS', 'jMVK_NoProductsSpecified_CAFS', 'jAcetone_CH3CO_CH3_CAFS', 'jMEK_CH3CO_CH2CH3_CAFS', 'jHydroxyacetone_CH3CO_CH3O_CAFS', 'jHydroxyacetone_CH3COO_CH3_CAFS', 'jCHOCHO_HCO_HCO_CAFS', 'jCHOCHO_H2_2CO_CAFS', 'jCHOCHO_CH2O_CO_CAFS', 'jCH3COCHO_CH3CO_HCO_CAFS', 'j23Butanedione_NoProductsSpecified_CAFS', 'jCl2_Cl_Cl_CAFS', 'jClO_Cl_O3P_CAFS', 'jClNO2_Cl_NO2_CAFS', 'jClONO_Cl_NO2_CAFS', 'jClONO2_Cl_NO3_CAFS', 'jClONO2_ClO_NO2_CAFS', 'jBr2_Br_Br_CAFS', 'jBrO_Br_O_CAFS', 'jHOBr_OH_Br_CAFS', 'jBrNO_Br_NO_CAFS', 'jBrONO_Br_NO2_CAFS', 'jBrONO_BrO_NO_CAFS', 'jBrNO2_Br_NO2_CAFS', 'jBrONO2_BrO_NO2_CAFS', 'jBrONO2_Br_NO3_CAFS', 'jBrCl_Br_Cl_CAFS', 'jCHBr3_NoProductsSpecified_CAFS']\n",
            "(3380, 50)\n",
            "           UTC_Stop      G_LAT      G_LONG       G_ALT  jO3_O2_O1D_CAFS  \\\n",
            "UTC_Start                                                                 \n",
            "52390         52400  34.630960 -118.107350  799.533333         0.000002   \n",
            "52400         52410  34.630694 -118.113999  842.990000         0.000002   \n",
            "\n",
            "           jNO2_NO_O3P_CAFS  jH2O2_OH_OH_CAFS  jNO3_NO_O2_CAFS  \\\n",
            "UTC_Start                                                        \n",
            "52390              0.003121          0.000002         0.014920   \n",
            "52400              0.003105          0.000001         0.014995   \n",
            "\n",
            "           jNO3_NO2_O3P_CAFS  jN2O5_NO3_NO2_CAFS  ...  jBrO_Br_O_CAFS  \\\n",
            "UTC_Start                                         ...                   \n",
            "52390               0.116338            0.000009  ...        0.008795   \n",
            "52400               0.116249            0.000009  ...        0.008770   \n",
            "\n",
            "           jHOBr_OH_Br_CAFS  jBrNO_Br_NO_CAFS  jBrONO_Br_NO2_CAFS  \\\n",
            "UTC_Start                                                           \n",
            "52390              0.000798          0.011503            0.002560   \n",
            "52400              0.000794          0.011466            0.002553   \n",
            "\n",
            "           jBrONO_BrO_NO_CAFS  jBrNO2_Br_NO2_CAFS  jBrONO2_BrO_NO2_CAFS  \\\n",
            "UTC_Start                                                                 \n",
            "52390                0.002560             0.00177               0.00007   \n",
            "52400                0.002553             0.00176               0.00007   \n",
            "\n",
            "           jBrONO2_Br_NO3_CAFS  jBrCl_Br_Cl_CAFS  \\\n",
            "UTC_Start                                          \n",
            "52390                 0.000398          0.004593   \n",
            "52400                 0.000396          0.004565   \n",
            "\n",
            "           jCHBr3_NoProductsSpecified_CAFS  \n",
            "UTC_Start                                   \n",
            "52390                         1.442221e-07  \n",
            "52400                         1.462465e-07  \n",
            "\n",
            "[2 rows x 50 columns]\n",
            "                     UTC_Stop      G_LAT      G_LONG       G_ALT  \\\n",
            "UTC_Start_dt                                                       \n",
            "2016-07-29 14:33:10     52400  34.630960 -118.107350  799.533333   \n",
            "2016-07-29 14:33:20     52410  34.630694 -118.113999  842.990000   \n",
            "\n",
            "                     jO3_O2_O1D_CAFS  jNO2_NO_O3P_CAFS  jH2O2_OH_OH_CAFS  \\\n",
            "UTC_Start_dt                                                               \n",
            "2016-07-29 14:33:10         0.000002          0.003121          0.000002   \n",
            "2016-07-29 14:33:20         0.000002          0.003105          0.000001   \n",
            "\n",
            "                     jNO3_NO_O2_CAFS  jNO3_NO2_O3P_CAFS  jN2O5_NO3_NO2_CAFS  \\\n",
            "UTC_Start_dt                                                                  \n",
            "2016-07-29 14:33:10         0.014920           0.116338            0.000009   \n",
            "2016-07-29 14:33:20         0.014995           0.116249            0.000009   \n",
            "\n",
            "                     ...  jHOBr_OH_Br_CAFS  jBrNO_Br_NO_CAFS  \\\n",
            "UTC_Start_dt         ...                                       \n",
            "2016-07-29 14:33:10  ...          0.000798          0.011503   \n",
            "2016-07-29 14:33:20  ...          0.000794          0.011466   \n",
            "\n",
            "                     jBrONO_Br_NO2_CAFS  jBrONO_BrO_NO_CAFS  \\\n",
            "UTC_Start_dt                                                  \n",
            "2016-07-29 14:33:10            0.002560            0.002560   \n",
            "2016-07-29 14:33:20            0.002553            0.002553   \n",
            "\n",
            "                     jBrNO2_Br_NO2_CAFS  jBrONO2_BrO_NO2_CAFS  \\\n",
            "UTC_Start_dt                                                    \n",
            "2016-07-29 14:33:10             0.00177               0.00007   \n",
            "2016-07-29 14:33:20             0.00176               0.00007   \n",
            "\n",
            "                     jBrONO2_Br_NO3_CAFS  jBrCl_Br_Cl_CAFS  \\\n",
            "UTC_Start_dt                                                 \n",
            "2016-07-29 14:33:10             0.000398          0.004593   \n",
            "2016-07-29 14:33:20             0.000396          0.004565   \n",
            "\n",
            "                     jCHBr3_NoProductsSpecified_CAFS        UTC_Start_dt  \n",
            "UTC_Start_dt                                                              \n",
            "2016-07-29 14:33:10                     1.442221e-07 2016-07-29 14:33:10  \n",
            "2016-07-29 14:33:20                     1.462465e-07 2016-07-29 14:33:20  \n",
            "\n",
            "[2 rows x 51 columns]\n"
          ]
        }
      ]
    },
    {
      "cell_type": "code",
      "execution_count": 117,
      "metadata": {
        "id": "kMPbWWc5JYUT"
      },
      "outputs": [],
      "source": [
        "# Make a .csv file with all the photolysis data.\n",
        "folder_path = '/content/drive/MyDrive/Documents/AI4ER/PhD/Photolysis_data/ATom_MER10_Dataset.20210613'\n",
        "all_files = glob.glob(folder_path + '/*.ict')\n",
        "all_data = []\n",
        "for each_file in all_files:\n",
        "   col_names = get_col_names(each_file) \n",
        "   data = get_data(each_file, col_names)\n",
        "   data = get_date_time(each_file, data)\n",
        "   all_data.append(data)\n",
        "all_data = pd.concat(all_data, axis=0)\n",
        "all_data = all_data.drop(['UTC_Start_dt'], axis=1)\n",
        "out_path = folder_path + '/photolysis_data.csv'\n",
        "all_data.to_csv(out_path)"
      ]
    }
  ]
}