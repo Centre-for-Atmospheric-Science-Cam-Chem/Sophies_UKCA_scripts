{
  "nbformat": 4,
  "nbformat_minor": 0,
  "metadata": {
    "colab": {
      "provenance": []
    },
    "kernelspec": {
      "name": "python3",
      "display_name": "Python 3"
    },
    "language_info": {
      "name": "python"
    }
  },
  "cells": [
    {
      "cell_type": "markdown",
      "source": [
        "This Python script makes a bash file to run on MOOSE to get all the relevant files when the list of files is very long and would take too long to sift through manually. It moves the files to a specified location (netscratch) in a directory."
      ],
      "metadata": {
        "id": "XitiajvWXGwQ"
      }
    },
    {
      "cell_type": "code",
      "source": [
        "import glob"
      ],
      "metadata": {
        "id": "3v9reY52GnCs"
      },
      "execution_count": null,
      "outputs": []
    },
    {
      "cell_type": "code",
      "execution_count": null,
      "metadata": {
        "colab": {
          "base_uri": "https://localhost:8080/"
        },
        "id": "YTNNXkM3FGt-",
        "outputId": "986c0e8c-6635-4fef-8478-c97878c168c9"
      },
      "outputs": [
        {
          "output_type": "stream",
          "name": "stdout",
          "text": [
            "Mounted at /content/drive\n"
          ]
        }
      ],
      "source": [
        "from google.colab import drive\n",
        "drive.mount('/content/drive')"
      ]
    },
    {
      "cell_type": "code",
      "source": [
        "# 1. Make a folder on JASMIN to put all the files into. DONE\n",
        "# 2. Find the files and put them in the folder 1 by 1. Test the command. DONE\n",
        "# 3. SCP the folder to netscratch. DONE\n",
        "# 4. Delete the folder off JASMIN. DONE\n",
        "# 5. Make a shell script to do all this.\n",
        "\n",
        "# the UM output files are named like: moose:/crum/u-cy731/apl.pp/cy731a.pl20180531.pp\n",
        "um_file_prefix = 'moose:/crum/u-cy731/apl.pp/cy731a.pl'\n",
        "moo_get = 'moo get -v'\n",
        "folder_name = 'UM_nudged_J_outputs_for_ATom'\n",
        "dest_jasmin = './{}/'.format(folder_name)\n",
        "\n",
        "# Find all the dates.\n",
        "atom_folder_path = '/content/drive/MyDrive/Photolysis data/ATom_MER10_Dataset.20210613'\n",
        "atom_files = glob.glob(atom_folder_path + '/*.ict')\n",
        "\n",
        "moo_commands = ''\n",
        "\n",
        "for atom_file in atom_files:\n",
        "   date = atom_file[-16:-8]\n",
        "   um_file = '{}{}.pp'.format(um_file_prefix, date)\n",
        "   moo_command = '{} {} {}'.format(moo_get, um_file, dest_jasmin)\n",
        "   moo_commands = '{}\\n{}'.format(moo_commands, moo_command)\n",
        "\n",
        "dest_scratch = 'st838@atm-farman.ch.private.cam.ac.uk:/scratch/st838/netscratch/'\n",
        "scp_command = 'scp -r {} {}'.format(folder_name, dest_scratch)\n",
        "\n",
        "delete_command = 'rm -r {}'.format(folder_name)"
      ],
      "metadata": {
        "colab": {
          "base_uri": "https://localhost:8080/"
        },
        "id": "wnP4_8h3FZ3Q",
        "outputId": "187247e1-9b92-4d30-b7bb-94b2e6768bbb"
      },
      "execution_count": null,
      "outputs": [
        {
          "output_type": "stream",
          "name": "stdout",
          "text": [
            "\n",
            "moo get -v moose:/crum/u-cy731/apl.pp/cy731a.pl20160729.pp ./UM_nudged_J_outputs_for_ATom/\n",
            "moo get -v moose:/crum/u-cy731/apl.pp/cy731a.pl20160801.pp ./UM_nudged_J_outputs_for_ATom/\n",
            "moo get -v moose:/crum/u-cy731/apl.pp/cy731a.pl20160817.pp ./UM_nudged_J_outputs_for_ATom/\n",
            "moo get -v moose:/crum/u-cy731/apl.pp/cy731a.pl20160806.pp ./UM_nudged_J_outputs_for_ATom/\n",
            "moo get -v moose:/crum/u-cy731/apl.pp/cy731a.pl20170126.pp ./UM_nudged_J_outputs_for_ATom/\n",
            "moo get -v moose:/crum/u-cy731/apl.pp/cy731a.pl20160815.pp ./UM_nudged_J_outputs_for_ATom/\n",
            "moo get -v moose:/crum/u-cy731/apl.pp/cy731a.pl20160808.pp ./UM_nudged_J_outputs_for_ATom/\n",
            "moo get -v moose:/crum/u-cy731/apl.pp/cy731a.pl20160822.pp ./UM_nudged_J_outputs_for_ATom/\n",
            "moo get -v moose:/crum/u-cy731/apl.pp/cy731a.pl20160812.pp ./UM_nudged_J_outputs_for_ATom/\n",
            "moo get -v moose:/crum/u-cy731/apl.pp/cy731a.pl20160803.pp ./UM_nudged_J_outputs_for_ATom/\n",
            "moo get -v moose:/crum/u-cy731/apl.pp/cy731a.pl20160820.pp ./UM_nudged_J_outputs_for_ATom/\n",
            "moo get -v moose:/crum/u-cy731/apl.pp/cy731a.pl20160823.pp ./UM_nudged_J_outputs_for_ATom/\n",
            "moo get -v moose:/crum/u-cy731/apl.pp/cy731a.pl20170219.pp ./UM_nudged_J_outputs_for_ATom/\n",
            "moo get -v moose:/crum/u-cy731/apl.pp/cy731a.pl20170201.pp ./UM_nudged_J_outputs_for_ATom/\n",
            "moo get -v moose:/crum/u-cy731/apl.pp/cy731a.pl20170213.pp ./UM_nudged_J_outputs_for_ATom/\n",
            "moo get -v moose:/crum/u-cy731/apl.pp/cy731a.pl20170129.pp ./UM_nudged_J_outputs_for_ATom/\n",
            "moo get -v moose:/crum/u-cy731/apl.pp/cy731a.pl20170203.pp ./UM_nudged_J_outputs_for_ATom/\n",
            "moo get -v moose:/crum/u-cy731/apl.pp/cy731a.pl20170210.pp ./UM_nudged_J_outputs_for_ATom/\n",
            "moo get -v moose:/crum/u-cy731/apl.pp/cy731a.pl20170205.pp ./UM_nudged_J_outputs_for_ATom/\n",
            "moo get -v moose:/crum/u-cy731/apl.pp/cy731a.pl20170215.pp ./UM_nudged_J_outputs_for_ATom/\n",
            "moo get -v moose:/crum/u-cy731/apl.pp/cy731a.pl20170218.pp ./UM_nudged_J_outputs_for_ATom/\n",
            "moo get -v moose:/crum/u-cy731/apl.pp/cy731a.pl20171008.pp ./UM_nudged_J_outputs_for_ATom/\n",
            "moo get -v moose:/crum/u-cy731/apl.pp/cy731a.pl20171011.pp ./UM_nudged_J_outputs_for_ATom/\n",
            "moo get -v moose:/crum/u-cy731/apl.pp/cy731a.pl20171001.pp ./UM_nudged_J_outputs_for_ATom/\n",
            "moo get -v moose:/crum/u-cy731/apl.pp/cy731a.pl20171004.pp ./UM_nudged_J_outputs_for_ATom/\n",
            "moo get -v moose:/crum/u-cy731/apl.pp/cy731a.pl20171017.pp ./UM_nudged_J_outputs_for_ATom/\n",
            "moo get -v moose:/crum/u-cy731/apl.pp/cy731a.pl20171006.pp ./UM_nudged_J_outputs_for_ATom/\n",
            "moo get -v moose:/crum/u-cy731/apl.pp/cy731a.pl20170221.pp ./UM_nudged_J_outputs_for_ATom/\n",
            "moo get -v moose:/crum/u-cy731/apl.pp/cy731a.pl20171014.pp ./UM_nudged_J_outputs_for_ATom/\n",
            "moo get -v moose:/crum/u-cy731/apl.pp/cy731a.pl20170928.pp ./UM_nudged_J_outputs_for_ATom/\n",
            "moo get -v moose:/crum/u-cy731/apl.pp/cy731a.pl20180424.pp ./UM_nudged_J_outputs_for_ATom/\n",
            "moo get -v moose:/crum/u-cy731/apl.pp/cy731a.pl20171023.pp ./UM_nudged_J_outputs_for_ATom/\n",
            "moo get -v moose:/crum/u-cy731/apl.pp/cy731a.pl20171019.pp ./UM_nudged_J_outputs_for_ATom/\n",
            "moo get -v moose:/crum/u-cy731/apl.pp/cy731a.pl20180427.pp ./UM_nudged_J_outputs_for_ATom/\n",
            "moo get -v moose:/crum/u-cy731/apl.pp/cy731a.pl20180501.pp ./UM_nudged_J_outputs_for_ATom/\n",
            "moo get -v moose:/crum/u-cy731/apl.pp/cy731a.pl20171027.pp ./UM_nudged_J_outputs_for_ATom/\n",
            "moo get -v moose:/crum/u-cy731/apl.pp/cy731a.pl20171020.pp ./UM_nudged_J_outputs_for_ATom/\n",
            "moo get -v moose:/crum/u-cy731/apl.pp/cy731a.pl20180429.pp ./UM_nudged_J_outputs_for_ATom/\n",
            "moo get -v moose:/crum/u-cy731/apl.pp/cy731a.pl20171025.pp ./UM_nudged_J_outputs_for_ATom/\n",
            "moo get -v moose:/crum/u-cy731/apl.pp/cy731a.pl20180514.pp ./UM_nudged_J_outputs_for_ATom/\n",
            "moo get -v moose:/crum/u-cy731/apl.pp/cy731a.pl20180509.pp ./UM_nudged_J_outputs_for_ATom/\n",
            "moo get -v moose:/crum/u-cy731/apl.pp/cy731a.pl20180512.pp ./UM_nudged_J_outputs_for_ATom/\n",
            "moo get -v moose:/crum/u-cy731/apl.pp/cy731a.pl20180519.pp ./UM_nudged_J_outputs_for_ATom/\n",
            "moo get -v moose:/crum/u-cy731/apl.pp/cy731a.pl20180521.pp ./UM_nudged_J_outputs_for_ATom/\n",
            "moo get -v moose:/crum/u-cy731/apl.pp/cy731a.pl20180503.pp ./UM_nudged_J_outputs_for_ATom/\n",
            "moo get -v moose:/crum/u-cy731/apl.pp/cy731a.pl20180518.pp ./UM_nudged_J_outputs_for_ATom/\n",
            "moo get -v moose:/crum/u-cy731/apl.pp/cy731a.pl20180506.pp ./UM_nudged_J_outputs_for_ATom/\n",
            "moo get -v moose:/crum/u-cy731/apl.pp/cy731a.pl20180517.pp ./UM_nudged_J_outputs_for_ATom/\n"
          ]
        }
      ]
    },
    {
      "cell_type": "code",
      "source": [
        "# Make the bash script.\n",
        "bash_file_path = '/content/drive/MyDrive/Photolysis data/get_store_data.sh'\n",
        "bash_script = open(bash_file_path, 'w')\n",
        "bash_content = '#!/bin/bash\\n{}\\n{}\\n{}'.format(moo_commands, scp_command, delete_command)\n",
        "print(bash_content)\n",
        "bash_script.write(bash_content)\n",
        "bash_script.close()"
      ],
      "metadata": {
        "colab": {
          "base_uri": "https://localhost:8080/"
        },
        "id": "_z-nM-XMPPaM",
        "outputId": "0c5d34fe-4112-4eac-cf0a-4d5a2fb3db03"
      },
      "execution_count": null,
      "outputs": [
        {
          "output_type": "stream",
          "name": "stdout",
          "text": [
            "#!/bin/bash\n",
            "\n",
            "moo get -v moose:/crum/u-cy731/apl.pp/cy731a.pl20160729.pp ./UM_nudged_J_outputs_for_ATom/\n",
            "moo get -v moose:/crum/u-cy731/apl.pp/cy731a.pl20160801.pp ./UM_nudged_J_outputs_for_ATom/\n",
            "moo get -v moose:/crum/u-cy731/apl.pp/cy731a.pl20160817.pp ./UM_nudged_J_outputs_for_ATom/\n",
            "moo get -v moose:/crum/u-cy731/apl.pp/cy731a.pl20160806.pp ./UM_nudged_J_outputs_for_ATom/\n",
            "moo get -v moose:/crum/u-cy731/apl.pp/cy731a.pl20170126.pp ./UM_nudged_J_outputs_for_ATom/\n",
            "moo get -v moose:/crum/u-cy731/apl.pp/cy731a.pl20160815.pp ./UM_nudged_J_outputs_for_ATom/\n",
            "moo get -v moose:/crum/u-cy731/apl.pp/cy731a.pl20160808.pp ./UM_nudged_J_outputs_for_ATom/\n",
            "moo get -v moose:/crum/u-cy731/apl.pp/cy731a.pl20160822.pp ./UM_nudged_J_outputs_for_ATom/\n",
            "moo get -v moose:/crum/u-cy731/apl.pp/cy731a.pl20160812.pp ./UM_nudged_J_outputs_for_ATom/\n",
            "moo get -v moose:/crum/u-cy731/apl.pp/cy731a.pl20160803.pp ./UM_nudged_J_outputs_for_ATom/\n",
            "moo get -v moose:/crum/u-cy731/apl.pp/cy731a.pl20160820.pp ./UM_nudged_J_outputs_for_ATom/\n",
            "moo get -v moose:/crum/u-cy731/apl.pp/cy731a.pl20160823.pp ./UM_nudged_J_outputs_for_ATom/\n",
            "moo get -v moose:/crum/u-cy731/apl.pp/cy731a.pl20170219.pp ./UM_nudged_J_outputs_for_ATom/\n",
            "moo get -v moose:/crum/u-cy731/apl.pp/cy731a.pl20170201.pp ./UM_nudged_J_outputs_for_ATom/\n",
            "moo get -v moose:/crum/u-cy731/apl.pp/cy731a.pl20170213.pp ./UM_nudged_J_outputs_for_ATom/\n",
            "moo get -v moose:/crum/u-cy731/apl.pp/cy731a.pl20170129.pp ./UM_nudged_J_outputs_for_ATom/\n",
            "moo get -v moose:/crum/u-cy731/apl.pp/cy731a.pl20170203.pp ./UM_nudged_J_outputs_for_ATom/\n",
            "moo get -v moose:/crum/u-cy731/apl.pp/cy731a.pl20170210.pp ./UM_nudged_J_outputs_for_ATom/\n",
            "moo get -v moose:/crum/u-cy731/apl.pp/cy731a.pl20170205.pp ./UM_nudged_J_outputs_for_ATom/\n",
            "moo get -v moose:/crum/u-cy731/apl.pp/cy731a.pl20170215.pp ./UM_nudged_J_outputs_for_ATom/\n",
            "moo get -v moose:/crum/u-cy731/apl.pp/cy731a.pl20170218.pp ./UM_nudged_J_outputs_for_ATom/\n",
            "moo get -v moose:/crum/u-cy731/apl.pp/cy731a.pl20171008.pp ./UM_nudged_J_outputs_for_ATom/\n",
            "moo get -v moose:/crum/u-cy731/apl.pp/cy731a.pl20171011.pp ./UM_nudged_J_outputs_for_ATom/\n",
            "moo get -v moose:/crum/u-cy731/apl.pp/cy731a.pl20171001.pp ./UM_nudged_J_outputs_for_ATom/\n",
            "moo get -v moose:/crum/u-cy731/apl.pp/cy731a.pl20171004.pp ./UM_nudged_J_outputs_for_ATom/\n",
            "moo get -v moose:/crum/u-cy731/apl.pp/cy731a.pl20171017.pp ./UM_nudged_J_outputs_for_ATom/\n",
            "moo get -v moose:/crum/u-cy731/apl.pp/cy731a.pl20171006.pp ./UM_nudged_J_outputs_for_ATom/\n",
            "moo get -v moose:/crum/u-cy731/apl.pp/cy731a.pl20170221.pp ./UM_nudged_J_outputs_for_ATom/\n",
            "moo get -v moose:/crum/u-cy731/apl.pp/cy731a.pl20171014.pp ./UM_nudged_J_outputs_for_ATom/\n",
            "moo get -v moose:/crum/u-cy731/apl.pp/cy731a.pl20170928.pp ./UM_nudged_J_outputs_for_ATom/\n",
            "moo get -v moose:/crum/u-cy731/apl.pp/cy731a.pl20180424.pp ./UM_nudged_J_outputs_for_ATom/\n",
            "moo get -v moose:/crum/u-cy731/apl.pp/cy731a.pl20171023.pp ./UM_nudged_J_outputs_for_ATom/\n",
            "moo get -v moose:/crum/u-cy731/apl.pp/cy731a.pl20171019.pp ./UM_nudged_J_outputs_for_ATom/\n",
            "moo get -v moose:/crum/u-cy731/apl.pp/cy731a.pl20180427.pp ./UM_nudged_J_outputs_for_ATom/\n",
            "moo get -v moose:/crum/u-cy731/apl.pp/cy731a.pl20180501.pp ./UM_nudged_J_outputs_for_ATom/\n",
            "moo get -v moose:/crum/u-cy731/apl.pp/cy731a.pl20171027.pp ./UM_nudged_J_outputs_for_ATom/\n",
            "moo get -v moose:/crum/u-cy731/apl.pp/cy731a.pl20171020.pp ./UM_nudged_J_outputs_for_ATom/\n",
            "moo get -v moose:/crum/u-cy731/apl.pp/cy731a.pl20180429.pp ./UM_nudged_J_outputs_for_ATom/\n",
            "moo get -v moose:/crum/u-cy731/apl.pp/cy731a.pl20171025.pp ./UM_nudged_J_outputs_for_ATom/\n",
            "moo get -v moose:/crum/u-cy731/apl.pp/cy731a.pl20180514.pp ./UM_nudged_J_outputs_for_ATom/\n",
            "moo get -v moose:/crum/u-cy731/apl.pp/cy731a.pl20180509.pp ./UM_nudged_J_outputs_for_ATom/\n",
            "moo get -v moose:/crum/u-cy731/apl.pp/cy731a.pl20180512.pp ./UM_nudged_J_outputs_for_ATom/\n",
            "moo get -v moose:/crum/u-cy731/apl.pp/cy731a.pl20180519.pp ./UM_nudged_J_outputs_for_ATom/\n",
            "moo get -v moose:/crum/u-cy731/apl.pp/cy731a.pl20180521.pp ./UM_nudged_J_outputs_for_ATom/\n",
            "moo get -v moose:/crum/u-cy731/apl.pp/cy731a.pl20180503.pp ./UM_nudged_J_outputs_for_ATom/\n",
            "moo get -v moose:/crum/u-cy731/apl.pp/cy731a.pl20180518.pp ./UM_nudged_J_outputs_for_ATom/\n",
            "moo get -v moose:/crum/u-cy731/apl.pp/cy731a.pl20180506.pp ./UM_nudged_J_outputs_for_ATom/\n",
            "moo get -v moose:/crum/u-cy731/apl.pp/cy731a.pl20180517.pp ./UM_nudged_J_outputs_for_ATom/\n",
            "scp -r UM_nudged_J_outputs_for_ATom st838@atm-farman.ch.private.cam.ac.uk:/scratch/st838/netscratch/\n",
            "rm -r UM_nudged_J_outputs_for_ATom\n"
          ]
        }
      ]
    }
  ]
}