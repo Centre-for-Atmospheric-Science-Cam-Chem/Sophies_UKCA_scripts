{
  "nbformat": 4,
  "nbformat_minor": 0,
  "metadata": {
    "colab": {
      "provenance": []
    },
    "kernelspec": {
      "name": "python3",
      "display_name": "Python 3"
    },
    "language_info": {
      "name": "python"
    }
  },
  "cells": [
    {
      "cell_type": "markdown",
      "source": [
        "This Python script makes a bash file to run on MOOSE to get all the relevant files when the list of files is very long and would take too long to sift through manually. It moves the files to a specified location (netscratch) in a directory. It gets and moves each file one by one because they are too large to handle in groups."
      ],
      "metadata": {
        "id": "XitiajvWXGwQ"
      }
    },
    {
      "cell_type": "code",
      "source": [
        "import glob\n",
        "import math"
      ],
      "metadata": {
        "id": "3v9reY52GnCs"
      },
      "execution_count": 27,
      "outputs": []
    },
    {
      "cell_type": "code",
      "execution_count": 21,
      "metadata": {
        "colab": {
          "base_uri": "https://localhost:8080/"
        },
        "id": "YTNNXkM3FGt-",
        "outputId": "e816192e-75f2-4d6f-acc1-37c82bb8641e"
      },
      "outputs": [
        {
          "output_type": "stream",
          "name": "stdout",
          "text": [
            "Drive already mounted at /content/drive; to attempt to forcibly remount, call drive.mount(\"/content/drive\", force_remount=True).\n"
          ]
        }
      ],
      "source": [
        "from google.colab import drive\n",
        "drive.mount('/content/drive')"
      ]
    },
    {
      "cell_type": "code",
      "source": [
        "# 1. Make a folder on JASMIN to put all the files into. DONE\n",
        "# 2. Find the files and put them in the folder 1 by 1. Test the command. DONE\n",
        "# 3. SCP the folder to netscratch. DONE\n",
        "# 4. Delete the folder off JASMIN. DONE\n",
        "# 5. Make a shell script to do all this.\n",
        "\n",
        "# the UM output files are named like: moose:/crum/u-cy731/apl.pp/cy731a.pl20180531.pp\n",
        "um_file_path = 'moose:/crum/u-cy731/apl.pp/'\n",
        "um_file_prefix = 'cy731a.pl'\n",
        "moo_get = 'moo get -v'\n",
        "dest_jasmin = '.'\n",
        "dest_scratch = 'st838@atm-farman.ch.private.cam.ac.uk:/scratch/st838/netscratch/UM_nudged_J_outputs_for_ATom/'\n",
        "\n",
        "# Find all the dates.\n",
        "atom_folder_path = '/content/drive/MyDrive/Photolysis data/ATom_MER10_Dataset.20210613'\n",
        "atom_files = glob.glob(atom_folder_path + '/*.ict')\n",
        "\n",
        "all_commands = ''\n",
        "num_files = 0\n",
        "\n",
        "for atom_file in atom_files:\n",
        "\n",
        "   date = atom_file[-16:-8]\n",
        "   file_name = '{}{}.pp'.format(um_file_prefix, date)\n",
        "   um_file = '{}{}'.format(um_file_path, file_name)\n",
        "   moo_command = '{} {} {}'.format(moo_get, um_file, dest_jasmin)\n",
        "   scp_command = 'scp {} {}'.format(file_name, dest_scratch)\n",
        "   delete_command = 'rm {}'.format(file_name)\n",
        "   all_commands = '{}\\n{}\\n{}\\n{}'.format(all_commands, moo_command, scp_command, delete_command)\n",
        "   num_files += 1\n",
        "\n",
        "# Work out how much storage we will use up.\n",
        "total_files = 1237\n",
        "total_bytes = 19177039643840\n",
        "data_size = (total_bytes / total_files) * num_files\n",
        "GB = math.ceil(data_size * 0.000000001)\n",
        "print('Moving a total of {} gigabytes of data.'.format(GB))"
      ],
      "metadata": {
        "colab": {
          "base_uri": "https://localhost:8080/"
        },
        "id": "wnP4_8h3FZ3Q",
        "outputId": "262d5df9-ad46-4c41-faa0-e3b0cf698713"
      },
      "execution_count": 34,
      "outputs": [
        {
          "output_type": "stream",
          "name": "stdout",
          "text": [
            "Moving a total of 745 gigabytes of data.\n"
          ]
        }
      ]
    },
    {
      "cell_type": "code",
      "source": [
        "# Make the bash script.\n",
        "bash_file_path = '/content/drive/MyDrive/Photolysis data/get_store_data.sh'\n",
        "bash_script = open(bash_file_path, 'w')\n",
        "bash_content = '#!/bin/bash\\n{}'.format(all_commands)\n",
        "print(bash_content)\n",
        "bash_script.write(bash_content)\n",
        "bash_script.close()"
      ],
      "metadata": {
        "colab": {
          "base_uri": "https://localhost:8080/"
        },
        "id": "_z-nM-XMPPaM",
        "outputId": "d669d12d-71b8-45ad-bea4-9df3c96c5078"
      },
      "execution_count": 36,
      "outputs": [
        {
          "output_type": "stream",
          "name": "stdout",
          "text": [
            "#!/bin/bash\n",
            "\n",
            "moo get -v moose:/crum/u-cy731/apl.pp/cy731a.pl20160729.pp .\n",
            "scp cy731a.pl20160729.pp st838@atm-farman.ch.private.cam.ac.uk:/scratch/st838/netscratch/UM_nudged_J_outputs_for_ATom/\n",
            "rm cy731a.pl20160729.pp\n",
            "moo get -v moose:/crum/u-cy731/apl.pp/cy731a.pl20160801.pp .\n",
            "scp cy731a.pl20160801.pp st838@atm-farman.ch.private.cam.ac.uk:/scratch/st838/netscratch/UM_nudged_J_outputs_for_ATom/\n",
            "rm cy731a.pl20160801.pp\n",
            "moo get -v moose:/crum/u-cy731/apl.pp/cy731a.pl20160817.pp .\n",
            "scp cy731a.pl20160817.pp st838@atm-farman.ch.private.cam.ac.uk:/scratch/st838/netscratch/UM_nudged_J_outputs_for_ATom/\n",
            "rm cy731a.pl20160817.pp\n",
            "moo get -v moose:/crum/u-cy731/apl.pp/cy731a.pl20160806.pp .\n",
            "scp cy731a.pl20160806.pp st838@atm-farman.ch.private.cam.ac.uk:/scratch/st838/netscratch/UM_nudged_J_outputs_for_ATom/\n",
            "rm cy731a.pl20160806.pp\n",
            "moo get -v moose:/crum/u-cy731/apl.pp/cy731a.pl20170126.pp .\n",
            "scp cy731a.pl20170126.pp st838@atm-farman.ch.private.cam.ac.uk:/scratch/st838/netscratch/UM_nudged_J_outputs_for_ATom/\n",
            "rm cy731a.pl20170126.pp\n",
            "moo get -v moose:/crum/u-cy731/apl.pp/cy731a.pl20160815.pp .\n",
            "scp cy731a.pl20160815.pp st838@atm-farman.ch.private.cam.ac.uk:/scratch/st838/netscratch/UM_nudged_J_outputs_for_ATom/\n",
            "rm cy731a.pl20160815.pp\n",
            "moo get -v moose:/crum/u-cy731/apl.pp/cy731a.pl20160808.pp .\n",
            "scp cy731a.pl20160808.pp st838@atm-farman.ch.private.cam.ac.uk:/scratch/st838/netscratch/UM_nudged_J_outputs_for_ATom/\n",
            "rm cy731a.pl20160808.pp\n",
            "moo get -v moose:/crum/u-cy731/apl.pp/cy731a.pl20160822.pp .\n",
            "scp cy731a.pl20160822.pp st838@atm-farman.ch.private.cam.ac.uk:/scratch/st838/netscratch/UM_nudged_J_outputs_for_ATom/\n",
            "rm cy731a.pl20160822.pp\n",
            "moo get -v moose:/crum/u-cy731/apl.pp/cy731a.pl20160812.pp .\n",
            "scp cy731a.pl20160812.pp st838@atm-farman.ch.private.cam.ac.uk:/scratch/st838/netscratch/UM_nudged_J_outputs_for_ATom/\n",
            "rm cy731a.pl20160812.pp\n",
            "moo get -v moose:/crum/u-cy731/apl.pp/cy731a.pl20160803.pp .\n",
            "scp cy731a.pl20160803.pp st838@atm-farman.ch.private.cam.ac.uk:/scratch/st838/netscratch/UM_nudged_J_outputs_for_ATom/\n",
            "rm cy731a.pl20160803.pp\n",
            "moo get -v moose:/crum/u-cy731/apl.pp/cy731a.pl20160820.pp .\n",
            "scp cy731a.pl20160820.pp st838@atm-farman.ch.private.cam.ac.uk:/scratch/st838/netscratch/UM_nudged_J_outputs_for_ATom/\n",
            "rm cy731a.pl20160820.pp\n",
            "moo get -v moose:/crum/u-cy731/apl.pp/cy731a.pl20160823.pp .\n",
            "scp cy731a.pl20160823.pp st838@atm-farman.ch.private.cam.ac.uk:/scratch/st838/netscratch/UM_nudged_J_outputs_for_ATom/\n",
            "rm cy731a.pl20160823.pp\n",
            "moo get -v moose:/crum/u-cy731/apl.pp/cy731a.pl20170219.pp .\n",
            "scp cy731a.pl20170219.pp st838@atm-farman.ch.private.cam.ac.uk:/scratch/st838/netscratch/UM_nudged_J_outputs_for_ATom/\n",
            "rm cy731a.pl20170219.pp\n",
            "moo get -v moose:/crum/u-cy731/apl.pp/cy731a.pl20170201.pp .\n",
            "scp cy731a.pl20170201.pp st838@atm-farman.ch.private.cam.ac.uk:/scratch/st838/netscratch/UM_nudged_J_outputs_for_ATom/\n",
            "rm cy731a.pl20170201.pp\n",
            "moo get -v moose:/crum/u-cy731/apl.pp/cy731a.pl20170213.pp .\n",
            "scp cy731a.pl20170213.pp st838@atm-farman.ch.private.cam.ac.uk:/scratch/st838/netscratch/UM_nudged_J_outputs_for_ATom/\n",
            "rm cy731a.pl20170213.pp\n",
            "moo get -v moose:/crum/u-cy731/apl.pp/cy731a.pl20170129.pp .\n",
            "scp cy731a.pl20170129.pp st838@atm-farman.ch.private.cam.ac.uk:/scratch/st838/netscratch/UM_nudged_J_outputs_for_ATom/\n",
            "rm cy731a.pl20170129.pp\n",
            "moo get -v moose:/crum/u-cy731/apl.pp/cy731a.pl20170203.pp .\n",
            "scp cy731a.pl20170203.pp st838@atm-farman.ch.private.cam.ac.uk:/scratch/st838/netscratch/UM_nudged_J_outputs_for_ATom/\n",
            "rm cy731a.pl20170203.pp\n",
            "moo get -v moose:/crum/u-cy731/apl.pp/cy731a.pl20170210.pp .\n",
            "scp cy731a.pl20170210.pp st838@atm-farman.ch.private.cam.ac.uk:/scratch/st838/netscratch/UM_nudged_J_outputs_for_ATom/\n",
            "rm cy731a.pl20170210.pp\n",
            "moo get -v moose:/crum/u-cy731/apl.pp/cy731a.pl20170205.pp .\n",
            "scp cy731a.pl20170205.pp st838@atm-farman.ch.private.cam.ac.uk:/scratch/st838/netscratch/UM_nudged_J_outputs_for_ATom/\n",
            "rm cy731a.pl20170205.pp\n",
            "moo get -v moose:/crum/u-cy731/apl.pp/cy731a.pl20170215.pp .\n",
            "scp cy731a.pl20170215.pp st838@atm-farman.ch.private.cam.ac.uk:/scratch/st838/netscratch/UM_nudged_J_outputs_for_ATom/\n",
            "rm cy731a.pl20170215.pp\n",
            "moo get -v moose:/crum/u-cy731/apl.pp/cy731a.pl20170218.pp .\n",
            "scp cy731a.pl20170218.pp st838@atm-farman.ch.private.cam.ac.uk:/scratch/st838/netscratch/UM_nudged_J_outputs_for_ATom/\n",
            "rm cy731a.pl20170218.pp\n",
            "moo get -v moose:/crum/u-cy731/apl.pp/cy731a.pl20171008.pp .\n",
            "scp cy731a.pl20171008.pp st838@atm-farman.ch.private.cam.ac.uk:/scratch/st838/netscratch/UM_nudged_J_outputs_for_ATom/\n",
            "rm cy731a.pl20171008.pp\n",
            "moo get -v moose:/crum/u-cy731/apl.pp/cy731a.pl20171011.pp .\n",
            "scp cy731a.pl20171011.pp st838@atm-farman.ch.private.cam.ac.uk:/scratch/st838/netscratch/UM_nudged_J_outputs_for_ATom/\n",
            "rm cy731a.pl20171011.pp\n",
            "moo get -v moose:/crum/u-cy731/apl.pp/cy731a.pl20171001.pp .\n",
            "scp cy731a.pl20171001.pp st838@atm-farman.ch.private.cam.ac.uk:/scratch/st838/netscratch/UM_nudged_J_outputs_for_ATom/\n",
            "rm cy731a.pl20171001.pp\n",
            "moo get -v moose:/crum/u-cy731/apl.pp/cy731a.pl20171004.pp .\n",
            "scp cy731a.pl20171004.pp st838@atm-farman.ch.private.cam.ac.uk:/scratch/st838/netscratch/UM_nudged_J_outputs_for_ATom/\n",
            "rm cy731a.pl20171004.pp\n",
            "moo get -v moose:/crum/u-cy731/apl.pp/cy731a.pl20171017.pp .\n",
            "scp cy731a.pl20171017.pp st838@atm-farman.ch.private.cam.ac.uk:/scratch/st838/netscratch/UM_nudged_J_outputs_for_ATom/\n",
            "rm cy731a.pl20171017.pp\n",
            "moo get -v moose:/crum/u-cy731/apl.pp/cy731a.pl20171006.pp .\n",
            "scp cy731a.pl20171006.pp st838@atm-farman.ch.private.cam.ac.uk:/scratch/st838/netscratch/UM_nudged_J_outputs_for_ATom/\n",
            "rm cy731a.pl20171006.pp\n",
            "moo get -v moose:/crum/u-cy731/apl.pp/cy731a.pl20170221.pp .\n",
            "scp cy731a.pl20170221.pp st838@atm-farman.ch.private.cam.ac.uk:/scratch/st838/netscratch/UM_nudged_J_outputs_for_ATom/\n",
            "rm cy731a.pl20170221.pp\n",
            "moo get -v moose:/crum/u-cy731/apl.pp/cy731a.pl20171014.pp .\n",
            "scp cy731a.pl20171014.pp st838@atm-farman.ch.private.cam.ac.uk:/scratch/st838/netscratch/UM_nudged_J_outputs_for_ATom/\n",
            "rm cy731a.pl20171014.pp\n",
            "moo get -v moose:/crum/u-cy731/apl.pp/cy731a.pl20170928.pp .\n",
            "scp cy731a.pl20170928.pp st838@atm-farman.ch.private.cam.ac.uk:/scratch/st838/netscratch/UM_nudged_J_outputs_for_ATom/\n",
            "rm cy731a.pl20170928.pp\n",
            "moo get -v moose:/crum/u-cy731/apl.pp/cy731a.pl20180424.pp .\n",
            "scp cy731a.pl20180424.pp st838@atm-farman.ch.private.cam.ac.uk:/scratch/st838/netscratch/UM_nudged_J_outputs_for_ATom/\n",
            "rm cy731a.pl20180424.pp\n",
            "moo get -v moose:/crum/u-cy731/apl.pp/cy731a.pl20171023.pp .\n",
            "scp cy731a.pl20171023.pp st838@atm-farman.ch.private.cam.ac.uk:/scratch/st838/netscratch/UM_nudged_J_outputs_for_ATom/\n",
            "rm cy731a.pl20171023.pp\n",
            "moo get -v moose:/crum/u-cy731/apl.pp/cy731a.pl20171019.pp .\n",
            "scp cy731a.pl20171019.pp st838@atm-farman.ch.private.cam.ac.uk:/scratch/st838/netscratch/UM_nudged_J_outputs_for_ATom/\n",
            "rm cy731a.pl20171019.pp\n",
            "moo get -v moose:/crum/u-cy731/apl.pp/cy731a.pl20180427.pp .\n",
            "scp cy731a.pl20180427.pp st838@atm-farman.ch.private.cam.ac.uk:/scratch/st838/netscratch/UM_nudged_J_outputs_for_ATom/\n",
            "rm cy731a.pl20180427.pp\n",
            "moo get -v moose:/crum/u-cy731/apl.pp/cy731a.pl20180501.pp .\n",
            "scp cy731a.pl20180501.pp st838@atm-farman.ch.private.cam.ac.uk:/scratch/st838/netscratch/UM_nudged_J_outputs_for_ATom/\n",
            "rm cy731a.pl20180501.pp\n",
            "moo get -v moose:/crum/u-cy731/apl.pp/cy731a.pl20171027.pp .\n",
            "scp cy731a.pl20171027.pp st838@atm-farman.ch.private.cam.ac.uk:/scratch/st838/netscratch/UM_nudged_J_outputs_for_ATom/\n",
            "rm cy731a.pl20171027.pp\n",
            "moo get -v moose:/crum/u-cy731/apl.pp/cy731a.pl20171020.pp .\n",
            "scp cy731a.pl20171020.pp st838@atm-farman.ch.private.cam.ac.uk:/scratch/st838/netscratch/UM_nudged_J_outputs_for_ATom/\n",
            "rm cy731a.pl20171020.pp\n",
            "moo get -v moose:/crum/u-cy731/apl.pp/cy731a.pl20180429.pp .\n",
            "scp cy731a.pl20180429.pp st838@atm-farman.ch.private.cam.ac.uk:/scratch/st838/netscratch/UM_nudged_J_outputs_for_ATom/\n",
            "rm cy731a.pl20180429.pp\n",
            "moo get -v moose:/crum/u-cy731/apl.pp/cy731a.pl20171025.pp .\n",
            "scp cy731a.pl20171025.pp st838@atm-farman.ch.private.cam.ac.uk:/scratch/st838/netscratch/UM_nudged_J_outputs_for_ATom/\n",
            "rm cy731a.pl20171025.pp\n",
            "moo get -v moose:/crum/u-cy731/apl.pp/cy731a.pl20180514.pp .\n",
            "scp cy731a.pl20180514.pp st838@atm-farman.ch.private.cam.ac.uk:/scratch/st838/netscratch/UM_nudged_J_outputs_for_ATom/\n",
            "rm cy731a.pl20180514.pp\n",
            "moo get -v moose:/crum/u-cy731/apl.pp/cy731a.pl20180509.pp .\n",
            "scp cy731a.pl20180509.pp st838@atm-farman.ch.private.cam.ac.uk:/scratch/st838/netscratch/UM_nudged_J_outputs_for_ATom/\n",
            "rm cy731a.pl20180509.pp\n",
            "moo get -v moose:/crum/u-cy731/apl.pp/cy731a.pl20180512.pp .\n",
            "scp cy731a.pl20180512.pp st838@atm-farman.ch.private.cam.ac.uk:/scratch/st838/netscratch/UM_nudged_J_outputs_for_ATom/\n",
            "rm cy731a.pl20180512.pp\n",
            "moo get -v moose:/crum/u-cy731/apl.pp/cy731a.pl20180519.pp .\n",
            "scp cy731a.pl20180519.pp st838@atm-farman.ch.private.cam.ac.uk:/scratch/st838/netscratch/UM_nudged_J_outputs_for_ATom/\n",
            "rm cy731a.pl20180519.pp\n",
            "moo get -v moose:/crum/u-cy731/apl.pp/cy731a.pl20180521.pp .\n",
            "scp cy731a.pl20180521.pp st838@atm-farman.ch.private.cam.ac.uk:/scratch/st838/netscratch/UM_nudged_J_outputs_for_ATom/\n",
            "rm cy731a.pl20180521.pp\n",
            "moo get -v moose:/crum/u-cy731/apl.pp/cy731a.pl20180503.pp .\n",
            "scp cy731a.pl20180503.pp st838@atm-farman.ch.private.cam.ac.uk:/scratch/st838/netscratch/UM_nudged_J_outputs_for_ATom/\n",
            "rm cy731a.pl20180503.pp\n",
            "moo get -v moose:/crum/u-cy731/apl.pp/cy731a.pl20180518.pp .\n",
            "scp cy731a.pl20180518.pp st838@atm-farman.ch.private.cam.ac.uk:/scratch/st838/netscratch/UM_nudged_J_outputs_for_ATom/\n",
            "rm cy731a.pl20180518.pp\n",
            "moo get -v moose:/crum/u-cy731/apl.pp/cy731a.pl20180506.pp .\n",
            "scp cy731a.pl20180506.pp st838@atm-farman.ch.private.cam.ac.uk:/scratch/st838/netscratch/UM_nudged_J_outputs_for_ATom/\n",
            "rm cy731a.pl20180506.pp\n",
            "moo get -v moose:/crum/u-cy731/apl.pp/cy731a.pl20180517.pp .\n",
            "scp cy731a.pl20180517.pp st838@atm-farman.ch.private.cam.ac.uk:/scratch/st838/netscratch/UM_nudged_J_outputs_for_ATom/\n",
            "rm cy731a.pl20180517.pp\n"
          ]
        }
      ]
    }
  ]
}