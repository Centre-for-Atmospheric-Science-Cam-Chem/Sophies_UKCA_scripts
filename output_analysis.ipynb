{
  "nbformat": 4,
  "nbformat_minor": 0,
  "metadata": {
    "colab": {
      "provenance": []
    },
    "kernelspec": {
      "name": "python3",
      "display_name": "Python 3"
    },
    "language_info": {
      "name": "python"
    }
  },
  "cells": [
    {
      "cell_type": "code",
      "source": [
        "# Check spacing of gridpoints.\n",
        "\n",
        "import matplotlib.pyplot as plt\n",
        "\n",
        "# List of points to check and view increments.\n",
        "xspaces = []\n",
        "yspaces = []\n",
        "zspaces = []\n",
        "\n",
        "alldims = [xspaces, yspaces, zspaces]\n",
        "\n",
        "def checkSpaces(allspaces):\n",
        "  for coord in allspaces:\n",
        "    thisPos = 0\n",
        "    thisGap = 0\n",
        "    lastGap = 0\n",
        "    while thisPos < len(coord) - 1:\n",
        "      thisValue = coord[thisPos]\n",
        "      nextValue = coord[thisPos + 1]\n",
        "      thisGap = nextValue - thisValue\n",
        "      print(thisGap)\n",
        "      if (lastGap != 0 and thisGap != lastGap):\n",
        "        print(coord, \"is not consistently spaced.\")\n",
        "        break\n",
        "      lastGap = thisGap\n",
        "      thisPos = thisPos + 1\n",
        "\n",
        "def plotSpaces():\n",
        "  pass"
      ],
      "metadata": {
        "colab": {
          "base_uri": "https://localhost:8080/"
        },
        "id": "I5p4VM4PY0W8",
        "outputId": "fecab492-5aae-4425-f057-0870e718bdb1"
      },
      "execution_count": null,
      "outputs": [
        {
          "output_type": "stream",
          "name": "stdout",
          "text": [
            "1\n",
            "1\n",
            "1\n",
            "1\n",
            "1\n",
            "2\n",
            "[0, 1, 3, 4] is not consistently spaced.\n",
            "3\n",
            "1\n",
            "[0, 3, 4, 9] is not consistently spaced.\n"
          ]
        }
      ]
    }
  ]
}